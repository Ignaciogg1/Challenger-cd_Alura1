{
  "nbformat": 4,
  "nbformat_minor": 0,
  "metadata": {
    "colab": {
      "provenance": [],
      "include_colab_link": true
    },
    "kernelspec": {
      "name": "python3",
      "display_name": "Python 3"
    },
    "language_info": {
      "name": "python"
    }
  },
  "cells": [
    {
      "cell_type": "markdown",
      "metadata": {
        "id": "view-in-github",
        "colab_type": "text"
      },
      "source": [
        "<a href=\"https://colab.research.google.com/github/Ignaciogg1/Challenger-cd_Alura1/blob/main/Copalurastorelatam_ipynb_txt.ipynb\" target=\"_parent\"><img src=\"https://colab.research.google.com/assets/colab-badge.svg\" alt=\"Open In Colab\"/></a>"
      ]
    },
    {
      "cell_type": "markdown",
      "source": [
        "### Importación de datos\n",
        "\n"
      ],
      "metadata": {
        "id": "RhEdWd9YUR6H"
      }
    },
    {
      "cell_type": "code",
      "execution_count": null,
      "metadata": {
        "colab": {
          "base_uri": "https://localhost:8080/",
          "height": 469
        },
        "id": "T3EvaeQ_INIL",
        "outputId": "fbde8153-59ef-4dfc-ee6a-c76c777b3619"
      },
      "outputs": [
        {
          "output_type": "stream",
          "name": "stdout",
          "text": [
            "Requirement already satisfied: reportlab in /usr/local/lib/python3.11/dist-packages (4.4.3)\n",
            "Requirement already satisfied: pillow>=9.0.0 in /usr/local/lib/python3.11/dist-packages (from reportlab) (11.3.0)\n",
            "Requirement already satisfied: charset-normalizer in /usr/local/lib/python3.11/dist-packages (from reportlab) (3.4.3)\n"
          ]
        },
        {
          "output_type": "execute_result",
          "data": {
            "text/plain": [
              "           Producto  Categoría del Producto    Precio  Costo de envío  \\\n",
              "0  Silla de oficina                 Muebles  283600.0         15300.0   \n",
              "1         Pandereta  Instrumentos musicales   76800.0          2300.0   \n",
              "2         Cama king                 Muebles  443300.0         23800.0   \n",
              "3         Cama king                 Muebles  906200.0         46400.0   \n",
              "4  Silla de oficina                 Muebles  397800.0         19400.0   \n",
              "\n",
              "  Fecha de Compra         Vendedor Lugar de Compra  Calificación  \\\n",
              "0      04/08/2021  Izabela de León        Medellín             1   \n",
              "1      26/11/2020   Blanca Ramirez        Medellín             3   \n",
              "2      22/10/2021  Izabela de León         Pereira             5   \n",
              "3      04/05/2022    Maria Alfonso            Cali             5   \n",
              "4      26/02/2022    Lucas Olivera          Bogotá             4   \n",
              "\n",
              "       Método de pago  Cantidad de cuotas      lat       lon  \n",
              "0               Nequi                   1  6.25184 -75.56359  \n",
              "1  Tarjeta de crédito                   4  6.25184 -75.56359  \n",
              "2  Tarjeta de crédito                  10  4.81333 -75.69611  \n",
              "3  Tarjeta de crédito                  10  3.43722 -76.52250  \n",
              "4  Tarjeta de crédito                   3  4.60971 -74.08175  "
            ],
            "text/html": [
              "\n",
              "  <div id=\"df-897a9d73-06a8-480a-8a04-bc804b8f85ef\" class=\"colab-df-container\">\n",
              "    <div>\n",
              "<style scoped>\n",
              "    .dataframe tbody tr th:only-of-type {\n",
              "        vertical-align: middle;\n",
              "    }\n",
              "\n",
              "    .dataframe tbody tr th {\n",
              "        vertical-align: top;\n",
              "    }\n",
              "\n",
              "    .dataframe thead th {\n",
              "        text-align: right;\n",
              "    }\n",
              "</style>\n",
              "<table border=\"1\" class=\"dataframe\">\n",
              "  <thead>\n",
              "    <tr style=\"text-align: right;\">\n",
              "      <th></th>\n",
              "      <th>Producto</th>\n",
              "      <th>Categoría del Producto</th>\n",
              "      <th>Precio</th>\n",
              "      <th>Costo de envío</th>\n",
              "      <th>Fecha de Compra</th>\n",
              "      <th>Vendedor</th>\n",
              "      <th>Lugar de Compra</th>\n",
              "      <th>Calificación</th>\n",
              "      <th>Método de pago</th>\n",
              "      <th>Cantidad de cuotas</th>\n",
              "      <th>lat</th>\n",
              "      <th>lon</th>\n",
              "    </tr>\n",
              "  </thead>\n",
              "  <tbody>\n",
              "    <tr>\n",
              "      <th>0</th>\n",
              "      <td>Silla de oficina</td>\n",
              "      <td>Muebles</td>\n",
              "      <td>283600.0</td>\n",
              "      <td>15300.0</td>\n",
              "      <td>04/08/2021</td>\n",
              "      <td>Izabela de León</td>\n",
              "      <td>Medellín</td>\n",
              "      <td>1</td>\n",
              "      <td>Nequi</td>\n",
              "      <td>1</td>\n",
              "      <td>6.25184</td>\n",
              "      <td>-75.56359</td>\n",
              "    </tr>\n",
              "    <tr>\n",
              "      <th>1</th>\n",
              "      <td>Pandereta</td>\n",
              "      <td>Instrumentos musicales</td>\n",
              "      <td>76800.0</td>\n",
              "      <td>2300.0</td>\n",
              "      <td>26/11/2020</td>\n",
              "      <td>Blanca Ramirez</td>\n",
              "      <td>Medellín</td>\n",
              "      <td>3</td>\n",
              "      <td>Tarjeta de crédito</td>\n",
              "      <td>4</td>\n",
              "      <td>6.25184</td>\n",
              "      <td>-75.56359</td>\n",
              "    </tr>\n",
              "    <tr>\n",
              "      <th>2</th>\n",
              "      <td>Cama king</td>\n",
              "      <td>Muebles</td>\n",
              "      <td>443300.0</td>\n",
              "      <td>23800.0</td>\n",
              "      <td>22/10/2021</td>\n",
              "      <td>Izabela de León</td>\n",
              "      <td>Pereira</td>\n",
              "      <td>5</td>\n",
              "      <td>Tarjeta de crédito</td>\n",
              "      <td>10</td>\n",
              "      <td>4.81333</td>\n",
              "      <td>-75.69611</td>\n",
              "    </tr>\n",
              "    <tr>\n",
              "      <th>3</th>\n",
              "      <td>Cama king</td>\n",
              "      <td>Muebles</td>\n",
              "      <td>906200.0</td>\n",
              "      <td>46400.0</td>\n",
              "      <td>04/05/2022</td>\n",
              "      <td>Maria Alfonso</td>\n",
              "      <td>Cali</td>\n",
              "      <td>5</td>\n",
              "      <td>Tarjeta de crédito</td>\n",
              "      <td>10</td>\n",
              "      <td>3.43722</td>\n",
              "      <td>-76.52250</td>\n",
              "    </tr>\n",
              "    <tr>\n",
              "      <th>4</th>\n",
              "      <td>Silla de oficina</td>\n",
              "      <td>Muebles</td>\n",
              "      <td>397800.0</td>\n",
              "      <td>19400.0</td>\n",
              "      <td>26/02/2022</td>\n",
              "      <td>Lucas Olivera</td>\n",
              "      <td>Bogotá</td>\n",
              "      <td>4</td>\n",
              "      <td>Tarjeta de crédito</td>\n",
              "      <td>3</td>\n",
              "      <td>4.60971</td>\n",
              "      <td>-74.08175</td>\n",
              "    </tr>\n",
              "  </tbody>\n",
              "</table>\n",
              "</div>\n",
              "    <div class=\"colab-df-buttons\">\n",
              "\n",
              "  <div class=\"colab-df-container\">\n",
              "    <button class=\"colab-df-convert\" onclick=\"convertToInteractive('df-897a9d73-06a8-480a-8a04-bc804b8f85ef')\"\n",
              "            title=\"Convert this dataframe to an interactive table.\"\n",
              "            style=\"display:none;\">\n",
              "\n",
              "  <svg xmlns=\"http://www.w3.org/2000/svg\" height=\"24px\" viewBox=\"0 -960 960 960\">\n",
              "    <path d=\"M120-120v-720h720v720H120Zm60-500h600v-160H180v160Zm220 220h160v-160H400v160Zm0 220h160v-160H400v160ZM180-400h160v-160H180v160Zm440 0h160v-160H620v160ZM180-180h160v-160H180v160Zm440 0h160v-160H620v160Z\"/>\n",
              "  </svg>\n",
              "    </button>\n",
              "\n",
              "  <style>\n",
              "    .colab-df-container {\n",
              "      display:flex;\n",
              "      gap: 12px;\n",
              "    }\n",
              "\n",
              "    .colab-df-convert {\n",
              "      background-color: #E8F0FE;\n",
              "      border: none;\n",
              "      border-radius: 50%;\n",
              "      cursor: pointer;\n",
              "      display: none;\n",
              "      fill: #1967D2;\n",
              "      height: 32px;\n",
              "      padding: 0 0 0 0;\n",
              "      width: 32px;\n",
              "    }\n",
              "\n",
              "    .colab-df-convert:hover {\n",
              "      background-color: #E2EBFA;\n",
              "      box-shadow: 0px 1px 2px rgba(60, 64, 67, 0.3), 0px 1px 3px 1px rgba(60, 64, 67, 0.15);\n",
              "      fill: #174EA6;\n",
              "    }\n",
              "\n",
              "    .colab-df-buttons div {\n",
              "      margin-bottom: 4px;\n",
              "    }\n",
              "\n",
              "    [theme=dark] .colab-df-convert {\n",
              "      background-color: #3B4455;\n",
              "      fill: #D2E3FC;\n",
              "    }\n",
              "\n",
              "    [theme=dark] .colab-df-convert:hover {\n",
              "      background-color: #434B5C;\n",
              "      box-shadow: 0px 1px 3px 1px rgba(0, 0, 0, 0.15);\n",
              "      filter: drop-shadow(0px 1px 2px rgba(0, 0, 0, 0.3));\n",
              "      fill: #FFFFFF;\n",
              "    }\n",
              "  </style>\n",
              "\n",
              "    <script>\n",
              "      const buttonEl =\n",
              "        document.querySelector('#df-897a9d73-06a8-480a-8a04-bc804b8f85ef button.colab-df-convert');\n",
              "      buttonEl.style.display =\n",
              "        google.colab.kernel.accessAllowed ? 'block' : 'none';\n",
              "\n",
              "      async function convertToInteractive(key) {\n",
              "        const element = document.querySelector('#df-897a9d73-06a8-480a-8a04-bc804b8f85ef');\n",
              "        const dataTable =\n",
              "          await google.colab.kernel.invokeFunction('convertToInteractive',\n",
              "                                                    [key], {});\n",
              "        if (!dataTable) return;\n",
              "\n",
              "        const docLinkHtml = 'Like what you see? Visit the ' +\n",
              "          '<a target=\"_blank\" href=https://colab.research.google.com/notebooks/data_table.ipynb>data table notebook</a>'\n",
              "          + ' to learn more about interactive tables.';\n",
              "        element.innerHTML = '';\n",
              "        dataTable['output_type'] = 'display_data';\n",
              "        await google.colab.output.renderOutput(dataTable, element);\n",
              "        const docLink = document.createElement('div');\n",
              "        docLink.innerHTML = docLinkHtml;\n",
              "        element.appendChild(docLink);\n",
              "      }\n",
              "    </script>\n",
              "  </div>\n",
              "\n",
              "\n",
              "    <div id=\"df-6d199505-4e90-4314-8379-2ef25c94eb8f\">\n",
              "      <button class=\"colab-df-quickchart\" onclick=\"quickchart('df-6d199505-4e90-4314-8379-2ef25c94eb8f')\"\n",
              "                title=\"Suggest charts\"\n",
              "                style=\"display:none;\">\n",
              "\n",
              "<svg xmlns=\"http://www.w3.org/2000/svg\" height=\"24px\"viewBox=\"0 0 24 24\"\n",
              "     width=\"24px\">\n",
              "    <g>\n",
              "        <path d=\"M19 3H5c-1.1 0-2 .9-2 2v14c0 1.1.9 2 2 2h14c1.1 0 2-.9 2-2V5c0-1.1-.9-2-2-2zM9 17H7v-7h2v7zm4 0h-2V7h2v10zm4 0h-2v-4h2v4z\"/>\n",
              "    </g>\n",
              "</svg>\n",
              "      </button>\n",
              "\n",
              "<style>\n",
              "  .colab-df-quickchart {\n",
              "      --bg-color: #E8F0FE;\n",
              "      --fill-color: #1967D2;\n",
              "      --hover-bg-color: #E2EBFA;\n",
              "      --hover-fill-color: #174EA6;\n",
              "      --disabled-fill-color: #AAA;\n",
              "      --disabled-bg-color: #DDD;\n",
              "  }\n",
              "\n",
              "  [theme=dark] .colab-df-quickchart {\n",
              "      --bg-color: #3B4455;\n",
              "      --fill-color: #D2E3FC;\n",
              "      --hover-bg-color: #434B5C;\n",
              "      --hover-fill-color: #FFFFFF;\n",
              "      --disabled-bg-color: #3B4455;\n",
              "      --disabled-fill-color: #666;\n",
              "  }\n",
              "\n",
              "  .colab-df-quickchart {\n",
              "    background-color: var(--bg-color);\n",
              "    border: none;\n",
              "    border-radius: 50%;\n",
              "    cursor: pointer;\n",
              "    display: none;\n",
              "    fill: var(--fill-color);\n",
              "    height: 32px;\n",
              "    padding: 0;\n",
              "    width: 32px;\n",
              "  }\n",
              "\n",
              "  .colab-df-quickchart:hover {\n",
              "    background-color: var(--hover-bg-color);\n",
              "    box-shadow: 0 1px 2px rgba(60, 64, 67, 0.3), 0 1px 3px 1px rgba(60, 64, 67, 0.15);\n",
              "    fill: var(--button-hover-fill-color);\n",
              "  }\n",
              "\n",
              "  .colab-df-quickchart-complete:disabled,\n",
              "  .colab-df-quickchart-complete:disabled:hover {\n",
              "    background-color: var(--disabled-bg-color);\n",
              "    fill: var(--disabled-fill-color);\n",
              "    box-shadow: none;\n",
              "  }\n",
              "\n",
              "  .colab-df-spinner {\n",
              "    border: 2px solid var(--fill-color);\n",
              "    border-color: transparent;\n",
              "    border-bottom-color: var(--fill-color);\n",
              "    animation:\n",
              "      spin 1s steps(1) infinite;\n",
              "  }\n",
              "\n",
              "  @keyframes spin {\n",
              "    0% {\n",
              "      border-color: transparent;\n",
              "      border-bottom-color: var(--fill-color);\n",
              "      border-left-color: var(--fill-color);\n",
              "    }\n",
              "    20% {\n",
              "      border-color: transparent;\n",
              "      border-left-color: var(--fill-color);\n",
              "      border-top-color: var(--fill-color);\n",
              "    }\n",
              "    30% {\n",
              "      border-color: transparent;\n",
              "      border-left-color: var(--fill-color);\n",
              "      border-top-color: var(--fill-color);\n",
              "      border-right-color: var(--fill-color);\n",
              "    }\n",
              "    40% {\n",
              "      border-color: transparent;\n",
              "      border-right-color: var(--fill-color);\n",
              "      border-top-color: var(--fill-color);\n",
              "    }\n",
              "    60% {\n",
              "      border-color: transparent;\n",
              "      border-right-color: var(--fill-color);\n",
              "    }\n",
              "    80% {\n",
              "      border-color: transparent;\n",
              "      border-right-color: var(--fill-color);\n",
              "      border-bottom-color: var(--fill-color);\n",
              "    }\n",
              "    90% {\n",
              "      border-color: transparent;\n",
              "      border-bottom-color: var(--fill-color);\n",
              "    }\n",
              "  }\n",
              "</style>\n",
              "\n",
              "      <script>\n",
              "        async function quickchart(key) {\n",
              "          const quickchartButtonEl =\n",
              "            document.querySelector('#' + key + ' button');\n",
              "          quickchartButtonEl.disabled = true;  // To prevent multiple clicks.\n",
              "          quickchartButtonEl.classList.add('colab-df-spinner');\n",
              "          try {\n",
              "            const charts = await google.colab.kernel.invokeFunction(\n",
              "                'suggestCharts', [key], {});\n",
              "          } catch (error) {\n",
              "            console.error('Error during call to suggestCharts:', error);\n",
              "          }\n",
              "          quickchartButtonEl.classList.remove('colab-df-spinner');\n",
              "          quickchartButtonEl.classList.add('colab-df-quickchart-complete');\n",
              "        }\n",
              "        (() => {\n",
              "          let quickchartButtonEl =\n",
              "            document.querySelector('#df-6d199505-4e90-4314-8379-2ef25c94eb8f button');\n",
              "          quickchartButtonEl.style.display =\n",
              "            google.colab.kernel.accessAllowed ? 'block' : 'none';\n",
              "        })();\n",
              "      </script>\n",
              "    </div>\n",
              "\n",
              "    </div>\n",
              "  </div>\n"
            ],
            "application/vnd.google.colaboratory.intrinsic+json": {
              "type": "dataframe",
              "variable_name": "tienda2",
              "summary": "{\n  \"name\": \"tienda2\",\n  \"rows\": 2359,\n  \"fields\": [\n    {\n      \"column\": \"Producto\",\n      \"properties\": {\n        \"dtype\": \"category\",\n        \"num_unique_values\": 51,\n        \"samples\": [\n          \"Carrito de control remoto\",\n          \"Bal\\u00f3n de voleibol\",\n          \"Smartwatch\"\n        ],\n        \"semantic_type\": \"\",\n        \"description\": \"\"\n      }\n    },\n    {\n      \"column\": \"Categor\\u00eda del Producto\",\n      \"properties\": {\n        \"dtype\": \"category\",\n        \"num_unique_values\": 8,\n        \"samples\": [\n          \"Instrumentos musicales\",\n          \"Juguetes\",\n          \"Muebles\"\n        ],\n        \"semantic_type\": \"\",\n        \"description\": \"\"\n      }\n    },\n    {\n      \"column\": \"Precio\",\n      \"properties\": {\n        \"dtype\": \"number\",\n        \"std\": 595559.5496238894,\n        \"min\": 7600.0,\n        \"max\": 2953400.0,\n        \"num_unique_values\": 1908,\n        \"samples\": [\n          58500.0,\n          39100.0,\n          2005300.0\n        ],\n        \"semantic_type\": \"\",\n        \"description\": \"\"\n      }\n    },\n    {\n      \"column\": \"Costo de env\\u00edo\",\n      \"properties\": {\n        \"dtype\": \"number\",\n        \"std\": 31741.37516624008,\n        \"min\": 0.0,\n        \"max\": 162500.0,\n        \"num_unique_values\": 736,\n        \"samples\": [\n          79700.0,\n          32300.0,\n          12600.0\n        ],\n        \"semantic_type\": \"\",\n        \"description\": \"\"\n      }\n    },\n    {\n      \"column\": \"Fecha de Compra\",\n      \"properties\": {\n        \"dtype\": \"category\",\n        \"num_unique_values\": 1025,\n        \"samples\": [\n          \"17/02/2021\",\n          \"16/03/2023\",\n          \"30/07/2020\"\n        ],\n        \"semantic_type\": \"\",\n        \"description\": \"\"\n      }\n    },\n    {\n      \"column\": \"Vendedor\",\n      \"properties\": {\n        \"dtype\": \"category\",\n        \"num_unique_values\": 14,\n        \"samples\": [\n          \"Felipe Santos\",\n          \"\\u00c1ngel Rodriguez\",\n          \"Izabela de Le\\u00f3n\"\n        ],\n        \"semantic_type\": \"\",\n        \"description\": \"\"\n      }\n    },\n    {\n      \"column\": \"Lugar de Compra\",\n      \"properties\": {\n        \"dtype\": \"category\",\n        \"num_unique_values\": 19,\n        \"samples\": [\n          \"Medell\\u00edn\",\n          \"Barranquilla\",\n          \"Manizales\"\n        ],\n        \"semantic_type\": \"\",\n        \"description\": \"\"\n      }\n    },\n    {\n      \"column\": \"Calificaci\\u00f3n\",\n      \"properties\": {\n        \"dtype\": \"number\",\n        \"std\": 1,\n        \"min\": 1,\n        \"max\": 5,\n        \"num_unique_values\": 5,\n        \"samples\": [\n          3,\n          2,\n          5\n        ],\n        \"semantic_type\": \"\",\n        \"description\": \"\"\n      }\n    },\n    {\n      \"column\": \"M\\u00e9todo de pago\",\n      \"properties\": {\n        \"dtype\": \"category\",\n        \"num_unique_values\": 4,\n        \"samples\": [\n          \"Tarjeta de cr\\u00e9dito\",\n          \"Tarjeta de d\\u00e9bito\",\n          \"Nequi\"\n        ],\n        \"semantic_type\": \"\",\n        \"description\": \"\"\n      }\n    },\n    {\n      \"column\": \"Cantidad de cuotas\",\n      \"properties\": {\n        \"dtype\": \"number\",\n        \"std\": 2,\n        \"min\": 1,\n        \"max\": 24,\n        \"num_unique_values\": 17,\n        \"samples\": [\n          1,\n          4,\n          2\n        ],\n        \"semantic_type\": \"\",\n        \"description\": \"\"\n      }\n    },\n    {\n      \"column\": \"lat\",\n      \"properties\": {\n        \"dtype\": \"number\",\n        \"std\": 2.3511176512146568,\n        \"min\": -4.21528,\n        \"max\": 11.54444,\n        \"num_unique_values\": 19,\n        \"samples\": [\n          6.25184,\n          10.96854,\n          5.06889\n        ],\n        \"semantic_type\": \"\",\n        \"description\": \"\"\n      }\n    },\n    {\n      \"column\": \"lon\",\n      \"properties\": {\n        \"dtype\": \"number\",\n        \"std\": 1.185996710833015,\n        \"min\": -77.28111,\n        \"max\": -67.9239,\n        \"num_unique_values\": 19,\n        \"samples\": [\n          -75.56359,\n          -74.78132,\n          -75.51738\n        ],\n        \"semantic_type\": \"\",\n        \"description\": \"\"\n      }\n    }\n  ]\n}"
            }
          },
          "metadata": {},
          "execution_count": 1
        }
      ],
      "source": [
        "import pandas as pd\n",
        "%pip install reportlab\n",
        "\n",
        "url = \"https://raw.githubusercontent.com/alura-es-cursos/challenge1-data-science-latam/refs/heads/main/base-de-datos-challenge1-latam/tienda_1%20.csv\"\n",
        "url2 = \"https://raw.githubusercontent.com/alura-es-cursos/challenge1-data-science-latam/refs/heads/main/base-de-datos-challenge1-latam/tienda_2.csv\"\n",
        "url3 = \"https://raw.githubusercontent.com/alura-es-cursos/challenge1-data-science-latam/refs/heads/main/base-de-datos-challenge1-latam/tienda_3.csv\"\n",
        "url4 = \"https://raw.githubusercontent.com/alura-es-cursos/challenge1-data-science-latam/refs/heads/main/base-de-datos-challenge1-latam/tienda_4.csv\"\n",
        "\n",
        "tienda1 = pd.read_csv(url)\n",
        "tienda2 = pd.read_csv(url2)\n",
        "tienda3 = pd.read_csv(url3)\n",
        "tienda4 = pd.read_csv(url4)\n",
        "\n",
        "tienda2.head()"
      ]
    },
    {
      "cell_type": "markdown",
      "source": [
        "#1. Análisis de facturación"
      ],
      "metadata": {
        "id": "X62IW3KFUIYm"
      }
    },
    {
      "cell_type": "markdown",
      "source": [
        "1.1 Totales por tienda"
      ],
      "metadata": {
        "id": "1g51YuK549_s"
      }
    },
    {
      "cell_type": "code",
      "source": [
        "sumtienda1=tienda1['Precio'].sum()\n",
        "sumtienda2=tienda2['Precio'].sum()\n",
        "sumtienda3=tienda3['Precio'].sum()\n",
        "sumtienda4=tienda4['Precio'].sum()"
      ],
      "metadata": {
        "id": "xykobSftV64I"
      },
      "execution_count": null,
      "outputs": []
    },
    {
      "cell_type": "code",
      "source": [
        "print(f\"Total Tienda 1 es:{sumtienda1:,.0f}\")\n",
        "print(f\"Total Tienda 2 es:{sumtienda2:,.0f}\")\n",
        "print(f\"Total Tienda 3 es:{sumtienda3:,.0f}\")\n",
        "print(f\"Total Tienda 4 es:{sumtienda4:,.0f}\")"
      ],
      "metadata": {
        "id": "KDyr8E71V3m-",
        "colab": {
          "base_uri": "https://localhost:8080/"
        },
        "outputId": "fe8c4453-cb16-48e5-dcda-ae9524812477"
      },
      "execution_count": null,
      "outputs": [
        {
          "output_type": "stream",
          "name": "stdout",
          "text": [
            "Total Tienda 1 es:1,150,880,400\n",
            "Total Tienda 2 es:1,116,343,500\n",
            "Total Tienda 3 es:1,098,019,600\n",
            "Total Tienda 4 es:1,038,375,700\n"
          ]
        }
      ]
    },
    {
      "cell_type": "markdown",
      "source": [
        "1.2 Informes de ventas por año por tienda"
      ],
      "metadata": {
        "id": "SRv2OFoX5Rfk"
      }
    },
    {
      "cell_type": "code",
      "source": [
        "import pandas as pd\n",
        "from tabulate import tabulate\n",
        "from reportlab.lib.pagesizes import A4\n",
        "from reportlab.platypus import SimpleDocTemplate, Table, TableStyle, Paragraph, Spacer\n",
        "from reportlab.lib import colors\n",
        "from reportlab.lib.styles import getSampleStyleSheet\n",
        "\n",
        "df = pd.DataFrame(tienda1)\n",
        "df['Fecha de Compra'] = pd.to_datetime(df['Fecha de Compra'], dayfirst=True)\n",
        "df['año'] = df['Fecha de Compra'].dt.year\n",
        "\n",
        "resumen = df.groupby('año').agg(\n",
        "    total_anual=('Precio', 'sum'),\n",
        "    promedio_mensual=('Precio', lambda x: x.sum() / len(x))\n",
        ").reset_index()\n",
        "\n",
        "total_general = resumen['total_anual'].sum()\n",
        "resumen['porcentaje'] = (resumen['total_anual'] / total_general) * 100\n",
        "\n",
        "fila_total = pd.DataFrame({\n",
        "    'año': ['TOTAL'],\n",
        "    'total_anual': [total_general],\n",
        "    'promedio_mensual': [resumen['promedio_mensual'].mean()],\n",
        "    'porcentaje': [100]\n",
        "})\n",
        "resumen = pd.concat([resumen, fila_total], ignore_index=True)\n",
        "\n",
        "resumen_pdf = resumen.copy()\n",
        "\n",
        "resumen['total_anual'] = resumen['total_anual'].map('${:,.0f}'.format)\n",
        "resumen['promedio_mensual'] = resumen['promedio_mensual'].map('${:,.0f}'.format)\n",
        "resumen['porcentaje'] = resumen['porcentaje'].map('{:.2f}%'.format)\n",
        "\n",
        "print(\"\\n\" + \"=\"*60)\n",
        "print(\" INFORME DE VENTAS POR AÑO TIENDA 1\".center(60, \"=\"))\n",
        "print(\"=\"*60)\n",
        "print(tabulate(resumen, headers=\"keys\", tablefmt=\"fancy_grid\", showindex=False))\n",
        "print(\"=\"*60)\n",
        "\n",
        "pdf_file = \"/content/informe_ventas_tienda1.pdf\"\n",
        "doc = SimpleDocTemplate(pdf_file, pagesize=A4)\n",
        "elements = []\n",
        "styles = getSampleStyleSheet()\n",
        "\n",
        "elements.append(Paragraph(\"<b>INFORME DE VENTAS POR AÑO TIENDA 1</b>\", styles['Title']))\n",
        "elements.append(Spacer(1, 12))\n",
        "\n",
        "resumen_pdf['total_anual'] = resumen_pdf['total_anual'].map('${:,.0f}'.format)\n",
        "resumen_pdf['promedio_mensual'] = resumen_pdf['promedio_mensual'].map('${:,.0f}'.format)\n",
        "resumen_pdf['porcentaje'] = resumen_pdf['porcentaje'].map('{:.2f}%'.format)\n",
        "data_table = [list(resumen_pdf.columns)] + resumen_pdf.values.tolist()\n",
        "\n",
        "table = Table(data_table, hAlign='CENTER')\n",
        "table_style = TableStyle([\n",
        "    ('BACKGROUND', (0, 0), (-1, 0), colors.HexColor(\"#4F81BD\")),\n",
        "    ('TEXTCOLOR', (0, 0), (-1, 0), colors.white),\n",
        "    ('ALIGN', (0, 0), (-1, -1), 'CENTER'),\n",
        "    ('FONTNAME', (0, 0), (-1, 0), 'Helvetica-Bold'),\n",
        "    ('FONTSIZE', (0, 0), (-1, -1), 10),\n",
        "    ('GRID', (0, 0), (-1, -1), 0.5, colors.grey),\n",
        "    ('BACKGROUND', (0, 1), (-1, -1), colors.whitesmoke),\n",
        "    ('BACKGROUND', (0, -1), (-1, -1), colors.HexColor(\"#D9E1F2\")),\n",
        "    ('FONTNAME', (0, -1), (-1, -1), 'Helvetica-Bold')\n",
        "])\n",
        "table.setStyle(table_style)\n",
        "elements.append(table)\n",
        "\n",
        "# Generar PDF\n",
        "doc.build(elements)\n",
        "print(f\"✅ Informe PDF generado en: {pdf_file}\")"
      ],
      "metadata": {
        "colab": {
          "base_uri": "https://localhost:8080/"
        },
        "id": "iFxEMoX6hiwh",
        "outputId": "80a20157-d6a7-4ee7-e971-b529f313e265"
      },
      "execution_count": null,
      "outputs": [
        {
          "output_type": "stream",
          "name": "stdout",
          "text": [
            "\n",
            "============================================================\n",
            "============ INFORME DE VENTAS POR AÑO TIENDA 1=============\n",
            "============================================================\n",
            "╒═══════╤════════════════╤════════════════════╤══════════════╕\n",
            "│ año   │ total_anual    │ promedio_mensual   │ porcentaje   │\n",
            "╞═══════╪════════════════╪════════════════════╪══════════════╡\n",
            "│ 2020  │ $368,933,200   │ $515,990           │ 32.06%       │\n",
            "├───────┼────────────────┼────────────────────┼──────────────┤\n",
            "│ 2021  │ $362,120,800   │ $490,015           │ 31.46%       │\n",
            "├───────┼────────────────┼────────────────────┼──────────────┤\n",
            "│ 2022  │ $316,565,600   │ $443,991           │ 27.51%       │\n",
            "├───────┼────────────────┼────────────────────┼──────────────┤\n",
            "│ 2023  │ $103,260,800   │ $537,817           │ 8.97%        │\n",
            "├───────┼────────────────┼────────────────────┼──────────────┤\n",
            "│ TOTAL │ $1,150,880,400 │ $496,953           │ 100.00%      │\n",
            "╘═══════╧════════════════╧════════════════════╧══════════════╛\n",
            "============================================================\n",
            "✅ Informe PDF generado en: /content/informe_ventas_tienda1.pdf\n"
          ]
        }
      ]
    },
    {
      "cell_type": "code",
      "source": [
        "import pandas as pd\n",
        "from tabulate import tabulate\n",
        "from reportlab.lib.pagesizes import A4\n",
        "from reportlab.platypus import SimpleDocTemplate, Table, TableStyle, Paragraph, Spacer\n",
        "from reportlab.lib import colors\n",
        "from reportlab.lib.styles import getSampleStyleSheet\n",
        "\n",
        "df = pd.DataFrame(tienda2)\n",
        "df['Fecha de Compra'] = pd.to_datetime(df['Fecha de Compra'], dayfirst=True)\n",
        "df['año'] = df['Fecha de Compra'].dt.year\n",
        "\n",
        "resumen = df.groupby('año').agg(\n",
        "    total_anual=('Precio', 'sum'),\n",
        "    promedio_mensual=('Precio', lambda x: x.sum() / len(x))\n",
        ").reset_index()\n",
        "\n",
        "total_general = resumen['total_anual'].sum()\n",
        "resumen['porcentaje'] = (resumen['total_anual'] / total_general) * 100\n",
        "\n",
        "fila_total = pd.DataFrame({\n",
        "    'año': ['TOTAL'],\n",
        "    'total_anual': [total_general],\n",
        "    'promedio_mensual': [resumen['promedio_mensual'].mean()],\n",
        "    'porcentaje': [100]\n",
        "})\n",
        "resumen = pd.concat([resumen, fila_total], ignore_index=True)\n",
        "\n",
        "resumen_pdf = resumen.copy()\n",
        "\n",
        "resumen['total_anual'] = resumen['total_anual'].map('${:,.0f}'.format)\n",
        "resumen['promedio_mensual'] = resumen['promedio_mensual'].map('${:,.0f}'.format)\n",
        "resumen['porcentaje'] = resumen['porcentaje'].map('{:.2f}%'.format)\n",
        "\n",
        "print(\"\\n\" + \"=\"*60)\n",
        "print(\" INFORME DE VENTAS POR AÑO TIENDA 2\".center(60, \"=\"))\n",
        "print(\"=\"*60)\n",
        "print(tabulate(resumen, headers=\"keys\", tablefmt=\"fancy_grid\", showindex=False))\n",
        "print(\"=\"*60)\n",
        "\n",
        "pdf_file = \"/content/informe_ventas_tienda2.pdf\"\n",
        "doc = SimpleDocTemplate(pdf_file, pagesize=A4)\n",
        "elements = []\n",
        "styles = getSampleStyleSheet()\n",
        "\n",
        "elements.append(Paragraph(\"<b>INFORME DE VENTAS POR AÑO TIENDA 2</b>\", styles['Title']))\n",
        "elements.append(Spacer(1, 12))\n",
        "\n",
        "resumen_pdf['total_anual'] = resumen_pdf['total_anual'].map('${:,.0f}'.format)\n",
        "resumen_pdf['promedio_mensual'] = resumen_pdf['promedio_mensual'].map('${:,.0f}'.format)\n",
        "resumen_pdf['porcentaje'] = resumen_pdf['porcentaje'].map('{:.2f}%'.format)\n",
        "data_table = [list(resumen_pdf.columns)] + resumen_pdf.values.tolist()\n",
        "\n",
        "table = Table(data_table, hAlign='CENTER')\n",
        "table_style = TableStyle([\n",
        "    ('BACKGROUND', (0, 0), (-1, 0), colors.HexColor(\"#4F81BD\")),\n",
        "    ('TEXTCOLOR', (0, 0), (-1, 0), colors.white),\n",
        "    ('ALIGN', (0, 0), (-1, -1), 'CENTER'),\n",
        "    ('FONTNAME', (0, 0), (-1, 0), 'Helvetica-Bold'),\n",
        "    ('FONTSIZE', (0, 0), (-1, -1), 10),\n",
        "    ('GRID', (0, 0), (-1, -1), 0.5, colors.grey),\n",
        "    ('BACKGROUND', (0, 1), (-1, -1), colors.whitesmoke),\n",
        "    ('BACKGROUND', (0, -1), (-1, -1), colors.HexColor(\"#D9E1F2\")),\n",
        "    ('FONTNAME', (0, -1), (-1, -1), 'Helvetica-Bold')\n",
        "])\n",
        "table.setStyle(table_style)\n",
        "elements.append(table)\n",
        "\n",
        "# Generar PDF\n",
        "doc.build(elements)\n",
        "print(f\"✅ Informe PDF generado en: {pdf_file}\")"
      ],
      "metadata": {
        "colab": {
          "base_uri": "https://localhost:8080/"
        },
        "id": "V6SKdxQkowE4",
        "outputId": "dfcfab83-626e-49fb-be86-b403b600e721"
      },
      "execution_count": null,
      "outputs": [
        {
          "output_type": "stream",
          "name": "stdout",
          "text": [
            "\n",
            "============================================================\n",
            "============ INFORME DE VENTAS POR AÑO TIENDA 2=============\n",
            "============================================================\n",
            "╒═══════╤════════════════╤════════════════════╤══════════════╕\n",
            "│ año   │ total_anual    │ promedio_mensual   │ porcentaje   │\n",
            "╞═══════╪════════════════╪════════════════════╪══════════════╡\n",
            "│ 2020  │ $320,466,600   │ $457,809           │ 28.71%       │\n",
            "├───────┼────────────────┼────────────────────┼──────────────┤\n",
            "│ 2021  │ $351,215,500   │ $462,735           │ 31.46%       │\n",
            "├───────┼────────────────┼────────────────────┼──────────────┤\n",
            "│ 2022  │ $358,226,500   │ $505,970           │ 32.09%       │\n",
            "├───────┼────────────────┼────────────────────┼──────────────┤\n",
            "│ 2023  │ $86,434,900    │ $450,182           │ 7.74%        │\n",
            "├───────┼────────────────┼────────────────────┼──────────────┤\n",
            "│ TOTAL │ $1,116,343,500 │ $469,174           │ 100.00%      │\n",
            "╘═══════╧════════════════╧════════════════════╧══════════════╛\n",
            "============================================================\n",
            "✅ Informe PDF generado en: /content/informe_ventas_tienda2.pdf\n"
          ]
        }
      ]
    },
    {
      "cell_type": "code",
      "source": [
        "import pandas as pd\n",
        "from tabulate import tabulate\n",
        "from reportlab.lib.pagesizes import A4\n",
        "from reportlab.platypus import SimpleDocTemplate, Table, TableStyle, Paragraph, Spacer\n",
        "from reportlab.lib import colors\n",
        "from reportlab.lib.styles import getSampleStyleSheet\n",
        "\n",
        "df = pd.DataFrame(tienda3)\n",
        "df['Fecha de Compra'] = pd.to_datetime(df['Fecha de Compra'], dayfirst=True)\n",
        "df['año'] = df['Fecha de Compra'].dt.year\n",
        "\n",
        "resumen = df.groupby('año').agg(\n",
        "    total_anual=('Precio', 'sum'),\n",
        "    promedio_mensual=('Precio', lambda x: x.sum() / len(x))\n",
        ").reset_index()\n",
        "\n",
        "total_general = resumen['total_anual'].sum()\n",
        "resumen['porcentaje'] = (resumen['total_anual'] / total_general) * 100\n",
        "\n",
        "fila_total = pd.DataFrame({\n",
        "    'año': ['TOTAL'],\n",
        "    'total_anual': [total_general],\n",
        "    'promedio_mensual': [resumen['promedio_mensual'].mean()],\n",
        "    'porcentaje': [100]\n",
        "})\n",
        "resumen = pd.concat([resumen, fila_total], ignore_index=True)\n",
        "\n",
        "resumen_pdf = resumen.copy()\n",
        "\n",
        "resumen['total_anual'] = resumen['total_anual'].map('${:,.0f}'.format)\n",
        "resumen['promedio_mensual'] = resumen['promedio_mensual'].map('${:,.0f}'.format)\n",
        "resumen['porcentaje'] = resumen['porcentaje'].map('{:.2f}%'.format)\n",
        "\n",
        "print(\"\\n\" + \"=\"*60)\n",
        "print(\" INFORME DE VENTAS POR AÑO TIENDA 3\".center(60, \"=\"))\n",
        "print(\"=\"*60)\n",
        "print(tabulate(resumen, headers=\"keys\", tablefmt=\"fancy_grid\", showindex=False))\n",
        "print(\"=\"*60)\n",
        "\n",
        "pdf_file = \"/content/informe_ventas_tienda3.pdf\"\n",
        "doc = SimpleDocTemplate(pdf_file, pagesize=A4)\n",
        "elements = []\n",
        "styles = getSampleStyleSheet()\n",
        "\n",
        "elements.append(Paragraph(\"<b>INFORME DE VENTAS POR AÑO TIENDA 3</b>\", styles['Title']))\n",
        "elements.append(Spacer(1, 12))\n",
        "\n",
        "resumen_pdf['total_anual'] = resumen_pdf['total_anual'].map('${:,.0f}'.format)\n",
        "resumen_pdf['promedio_mensual'] = resumen_pdf['promedio_mensual'].map('${:,.0f}'.format)\n",
        "resumen_pdf['porcentaje'] = resumen_pdf['porcentaje'].map('{:.2f}%'.format)\n",
        "data_table = [list(resumen_pdf.columns)] + resumen_pdf.values.tolist()\n",
        "\n",
        "table = Table(data_table, hAlign='CENTER')\n",
        "table_style = TableStyle([\n",
        "    ('BACKGROUND', (0, 0), (-1, 0), colors.HexColor(\"#4F81BD\")),\n",
        "    ('TEXTCOLOR', (0, 0), (-1, 0), colors.white),\n",
        "    ('ALIGN', (0, 0), (-1, -1), 'CENTER'),\n",
        "    ('FONTNAME', (0, 0), (-1, 0), 'Helvetica-Bold'),\n",
        "    ('FONTSIZE', (0, 0), (-1, -1), 10),\n",
        "    ('GRID', (0, 0), (-1, -1), 0.5, colors.grey),\n",
        "    ('BACKGROUND', (0, 1), (-1, -1), colors.whitesmoke),\n",
        "    ('BACKGROUND', (0, -1), (-1, -1), colors.HexColor(\"#D9E1F2\")),\n",
        "    ('FONTNAME', (0, -1), (-1, -1), 'Helvetica-Bold')\n",
        "])\n",
        "table.setStyle(table_style)\n",
        "elements.append(table)\n",
        "\n",
        "# Generar PDF\n",
        "doc.build(elements)\n",
        "print(f\"✅ Informe PDF generado en: {pdf_file}\")"
      ],
      "metadata": {
        "colab": {
          "base_uri": "https://localhost:8080/"
        },
        "id": "bUvGaOo1pTAp",
        "outputId": "69eb9996-9bb7-4b01-b1c6-3e685ab7d6fa"
      },
      "execution_count": null,
      "outputs": [
        {
          "output_type": "stream",
          "name": "stdout",
          "text": [
            "\n",
            "============================================================\n",
            "============ INFORME DE VENTAS POR AÑO TIENDA 3=============\n",
            "============================================================\n",
            "╒═══════╤════════════════╤════════════════════╤══════════════╕\n",
            "│ año   │ total_anual    │ promedio_mensual   │ porcentaje   │\n",
            "╞═══════╪════════════════╪════════════════════╪══════════════╡\n",
            "│ 2020  │ $321,707,500   │ $458,927           │ 29.30%       │\n",
            "├───────┼────────────────┼────────────────────┼──────────────┤\n",
            "│ 2021  │ $362,954,400   │ $490,479           │ 33.06%       │\n",
            "├───────┼────────────────┼────────────────────┼──────────────┤\n",
            "│ 2022  │ $350,438,300   │ $473,565           │ 31.92%       │\n",
            "├───────┼────────────────┼────────────────────┼──────────────┤\n",
            "│ 2023  │ $62,919,400    │ $353,480           │ 5.73%        │\n",
            "├───────┼────────────────┼────────────────────┼──────────────┤\n",
            "│ TOTAL │ $1,098,019,600 │ $444,113           │ 100.00%      │\n",
            "╘═══════╧════════════════╧════════════════════╧══════════════╛\n",
            "============================================================\n",
            "✅ Informe PDF generado en: /content/informe_ventas_tienda3.pdf\n"
          ]
        }
      ]
    },
    {
      "cell_type": "code",
      "source": [
        "import pandas as pd\n",
        "from tabulate import tabulate\n",
        "from reportlab.lib.pagesizes import A4\n",
        "from reportlab.platypus import SimpleDocTemplate, Table, TableStyle, Paragraph, Spacer\n",
        "from reportlab.lib import colors\n",
        "from reportlab.lib.styles import getSampleStyleSheet\n",
        "\n",
        "df = pd.DataFrame(tienda4)\n",
        "df['Fecha de Compra'] = pd.to_datetime(df['Fecha de Compra'], dayfirst=True)\n",
        "df['año'] = df['Fecha de Compra'].dt.year\n",
        "\n",
        "resumen = df.groupby('año').agg(\n",
        "    total_anual=('Precio', 'sum'),\n",
        "    promedio_mensual=('Precio', lambda x: x.sum() / len(x))\n",
        ").reset_index()\n",
        "\n",
        "total_general = resumen['total_anual'].sum()\n",
        "resumen['porcentaje'] = (resumen['total_anual'] / total_general) * 100\n",
        "\n",
        "fila_total = pd.DataFrame({\n",
        "    'año': ['TOTAL'],\n",
        "    'total_anual': [total_general],\n",
        "    'promedio_mensual': [resumen['promedio_mensual'].mean()],\n",
        "    'porcentaje': [100]\n",
        "})\n",
        "resumen = pd.concat([resumen, fila_total], ignore_index=True)\n",
        "\n",
        "resumen_pdf = resumen.copy()\n",
        "\n",
        "resumen['total_anual'] = resumen['total_anual'].map('${:,.0f}'.format)\n",
        "resumen['promedio_mensual'] = resumen['promedio_mensual'].map('${:,.0f}'.format)\n",
        "resumen['porcentaje'] = resumen['porcentaje'].map('{:.2f}%'.format)\n",
        "\n",
        "print(\"\\n\" + \"=\"*60)\n",
        "print(\" INFORME DE VENTAS POR AÑO TIENDA 4\".center(60, \"=\"))\n",
        "print(\"=\"*60)\n",
        "print(tabulate(resumen, headers=\"keys\", tablefmt=\"fancy_grid\", showindex=False))\n",
        "print(\"=\"*60)\n",
        "\n",
        "pdf_file = \"/content/informe_ventas_tienda4.pdf\"\n",
        "doc = SimpleDocTemplate(pdf_file, pagesize=A4)\n",
        "elements = []\n",
        "styles = getSampleStyleSheet()\n",
        "\n",
        "elements.append(Paragraph(\"<b>INFORME DE VENTAS POR AÑO TIENDA 4</b>\", styles['Title']))\n",
        "elements.append(Spacer(1, 12))\n",
        "\n",
        "resumen_pdf['total_anual'] = resumen_pdf['total_anual'].map('${:,.0f}'.format)\n",
        "resumen_pdf['promedio_mensual'] = resumen_pdf['promedio_mensual'].map('${:,.0f}'.format)\n",
        "resumen_pdf['porcentaje'] = resumen_pdf['porcentaje'].map('{:.2f}%'.format)\n",
        "data_table = [list(resumen_pdf.columns)] + resumen_pdf.values.tolist()\n",
        "\n",
        "table = Table(data_table, hAlign='CENTER')\n",
        "table_style = TableStyle([\n",
        "    ('BACKGROUND', (0, 0), (-1, 0), colors.HexColor(\"#4F81BD\")),\n",
        "    ('TEXTCOLOR', (0, 0), (-1, 0), colors.white),\n",
        "    ('ALIGN', (0, 0), (-1, -1), 'CENTER'),\n",
        "    ('FONTNAME', (0, 0), (-1, 0), 'Helvetica-Bold'),\n",
        "    ('FONTSIZE', (0, 0), (-1, -1), 10),\n",
        "    ('GRID', (0, 0), (-1, -1), 0.5, colors.grey),\n",
        "    ('BACKGROUND', (0, 1), (-1, -1), colors.whitesmoke),\n",
        "    ('BACKGROUND', (0, -1), (-1, -1), colors.HexColor(\"#D9E1F2\")),\n",
        "    ('FONTNAME', (0, -1), (-1, -1), 'Helvetica-Bold')\n",
        "])\n",
        "table.setStyle(table_style)\n",
        "elements.append(table)\n",
        "\n",
        "# Generar PDF\n",
        "doc.build(elements)\n",
        "print(f\"✅ Informe PDF generado en: {pdf_file}\")"
      ],
      "metadata": {
        "colab": {
          "base_uri": "https://localhost:8080/"
        },
        "id": "0zluxs9upsCg",
        "outputId": "a95b66c1-1f4a-413e-ed8e-66f368c5cc9a"
      },
      "execution_count": null,
      "outputs": [
        {
          "output_type": "stream",
          "name": "stdout",
          "text": [
            "\n",
            "============================================================\n",
            "============ INFORME DE VENTAS POR AÑO TIENDA 4=============\n",
            "============================================================\n",
            "╒═══════╤════════════════╤════════════════════╤══════════════╕\n",
            "│ año   │ total_anual    │ promedio_mensual   │ porcentaje   │\n",
            "╞═══════╪════════════════╪════════════════════╪══════════════╡\n",
            "│ 2020  │ $330,847,700   │ $444,091           │ 31.86%       │\n",
            "├───────┼────────────────┼────────────────────┼──────────────┤\n",
            "│ 2021  │ $347,823,600   │ $467,505           │ 33.50%       │\n",
            "├───────┼────────────────┼────────────────────┼──────────────┤\n",
            "│ 2022  │ $302,221,500   │ $424,468           │ 29.11%       │\n",
            "├───────┼────────────────┼────────────────────┼──────────────┤\n",
            "│ 2023  │ $57,482,900    │ $366,133           │ 5.54%        │\n",
            "├───────┼────────────────┼────────────────────┼──────────────┤\n",
            "│ TOTAL │ $1,038,375,700 │ $425,549           │ 100.00%      │\n",
            "╘═══════╧════════════════╧════════════════════╧══════════════╛\n",
            "============================================================\n",
            "✅ Informe PDF generado en: /content/informe_ventas_tienda4.pdf\n"
          ]
        }
      ]
    },
    {
      "cell_type": "markdown",
      "source": [
        "1.3 Informe comparativo por tiendas"
      ],
      "metadata": {
        "id": "cHRBy8f16Aw-"
      }
    },
    {
      "cell_type": "code",
      "source": [
        "import pandas as pd\n",
        "from tabulate import tabulate\n",
        "from reportlab.lib.pagesizes import A4\n",
        "from reportlab.lib import colors\n",
        "from reportlab.platypus import SimpleDocTemplate, Table, TableStyle, Paragraph, Spacer\n",
        "from reportlab.lib.styles import getSampleStyleSheet\n",
        "\n",
        "\n",
        "df_tiendaA = pd.DataFrame(tienda1)\n",
        "df_tiendaB = pd.DataFrame(tienda2)\n",
        "df_tiendaC = pd.DataFrame(tienda3)\n",
        "df_tiendaD = pd.DataFrame(tienda4)\n",
        "\n",
        "df_tiendaA['Tienda'] = 'Tienda A'\n",
        "df_tiendaB['Tienda'] = 'Tienda B'\n",
        "df_tiendaC['Tienda'] = 'Tienda C'\n",
        "df_tiendaD['Tienda'] = 'Tienda D'\n",
        "\n",
        "df = pd.concat([df_tiendaA, df_tiendaB, df_tiendaC, df_tiendaD], ignore_index=True)\n",
        "\n",
        "df['Fecha de Compra'] = pd.to_datetime(df['Fecha de Compra'], dayfirst=True)\n",
        "\n",
        "df['Año'] = df['Fecha de Compra'].dt.year\n",
        "\n",
        "tiendas = ['Tienda A', 'Tienda B', 'Tienda C', 'Tienda D']\n",
        "pivot_total = df.groupby(['Año', 'Tienda'])['Precio'].sum().reset_index()\n",
        "pivot_total = pivot_total.pivot(index='Año', columns='Tienda', values='Precio').reset_index()\n",
        "pivot_total['Total_Año'] = pivot_total[tiendas].sum(axis=1)\n",
        "\n",
        "porcentajes = pivot_total.copy()\n",
        "for t in tiendas:\n",
        "    porcentajes[t] = (pivot_total[t] / pivot_total['Total_Año']) * 100\n",
        "porcentajes['Total_Año'] = 100\n",
        "\n",
        "tabla_final = []\n",
        "for i in range(len(pivot_total)):\n",
        "    fila = [pivot_total.loc[i, 'Año']]\n",
        "    for t in tiendas + ['Total_Año']:\n",
        "        monto = pivot_total.loc[i, t]\n",
        "        porc = porcentajes.loc[i, t]\n",
        "        fila.append(f\"${monto:,.0f} ({porc:.2f}%)\")\n",
        "    tabla_final.append(fila)\n",
        "\n",
        "fila_total = [\"Total\"]\n",
        "for t in tiendas + ['Total_Año']:\n",
        "    monto = pivot_total[t].sum()\n",
        "    porc = (monto / pivot_total['Total_Año'].sum() * 100)\n",
        "    fila_total.append(f\"${monto:,.0f} ({porc:.2f}%)\")\n",
        "tabla_final.append(fila_total)\n",
        "\n",
        "headers = [\"Año\"] + tiendas + [\"Total_Año\"]\n",
        "print(\"\\n\" + \"=\"*100)\n",
        "print(\" Comparativo de Ventas por Año, Tienda y Participación (%) \".center(100, \"=\"))\n",
        "print(\"=\"*100)\n",
        "print(tabulate(tabla_final, headers=headers, tablefmt=\"fancy_grid\", stralign=\"center\"))\n",
        "print(\"=\"*100)\n",
        "\n",
        "def exportar_pdf(nombre_archivo, titulo, tabla, headers):\n",
        "    doc = SimpleDocTemplate(nombre_archivo, pagesize=A4)\n",
        "    estilos = getSampleStyleSheet()\n",
        "    contenido = []\n",
        "\n",
        "\n",
        "    contenido.append(Paragraph(titulo, estilos['Title']))\n",
        "    contenido.append(Spacer(1, 12))\n",
        "\n",
        "\n",
        "    data_pdf = [headers] + tabla\n",
        "    tabla_pdf = Table(data_pdf, repeatRows=1)\n",
        "    tabla_pdf.setStyle(TableStyle([\n",
        "        ('BACKGROUND', (0, 0), (-1, 0), colors.HexColor(\"#4F81BD\")),\n",
        "        ('TEXTCOLOR', (0, 0), (-1, 0), colors.whitesmoke),\n",
        "        ('ALIGN', (0, 0), (-1, -1), 'CENTER'),\n",
        "        ('FONTNAME', (0, 0), (-1, 0), 'Helvetica-Bold'),\n",
        "        ('FONTSIZE', (0, 0), (-1, 0), 10),\n",
        "        ('BOTTOMPADDING', (0, 0), (-1, 0), 8),\n",
        "        ('GRID', (0, 0), (-1, -1), 0.25, colors.black),\n",
        "        ('FONTNAME', (0, 1), (-1, -1), 'Helvetica'),\n",
        "        ('FONTSIZE', (0, 1), (-1, -1), 9),\n",
        "    ]))\n",
        "\n",
        "    contenido.append(tabla_pdf)\n",
        "    doc.build(contenido)\n",
        "\n",
        "exportar_pdf(\n",
        "    \"comparativo_ventas_4_tiendas.pdf\",\n",
        "    \"Comparativo de Ventas por Año, Tienda y Participación (%)\",\n",
        "    tabla_final,\n",
        "    headers\n",
        ")\n",
        "\n",
        "print(\"\\nPDF generado: comparativo_ventas_4_tiendas.pdf ✅\")"
      ],
      "metadata": {
        "colab": {
          "base_uri": "https://localhost:8080/"
        },
        "id": "Dyk3fkeSt_lw",
        "outputId": "59960f61-85aa-4688-f95f-5f65bd573d27"
      },
      "execution_count": null,
      "outputs": [
        {
          "output_type": "stream",
          "name": "stdout",
          "text": [
            "\n",
            "====================================================================================================\n",
            "==================== Comparativo de Ventas por Año, Tienda y Participación (%) =====================\n",
            "====================================================================================================\n",
            "╒═══════╤═════════════════════════╤═════════════════════════╤═════════════════════════╤═════════════════════════╤══════════════════════════╕\n",
            "│  Año  │        Tienda A         │        Tienda B         │        Tienda C         │        Tienda D         │        Total_Año         │\n",
            "╞═══════╪═════════════════════════╪═════════════════════════╪═════════════════════════╪═════════════════════════╪══════════════════════════╡\n",
            "│ 2020  │  $368,933,200 (27.49%)  │  $320,466,600 (23.88%)  │  $321,707,500 (23.97%)  │  $330,847,700 (24.65%)  │ $1,341,955,000 (100.00%) │\n",
            "├───────┼─────────────────────────┼─────────────────────────┼─────────────────────────┼─────────────────────────┼──────────────────────────┤\n",
            "│ 2021  │  $362,120,800 (25.43%)  │  $351,215,500 (24.66%)  │  $362,954,400 (25.49%)  │  $347,823,600 (24.42%)  │ $1,424,114,300 (100.00%) │\n",
            "├───────┼─────────────────────────┼─────────────────────────┼─────────────────────────┼─────────────────────────┼──────────────────────────┤\n",
            "│ 2022  │  $316,565,600 (23.85%)  │  $358,226,500 (26.99%)  │  $350,438,300 (26.40%)  │  $302,221,500 (22.77%)  │ $1,327,451,900 (100.00%) │\n",
            "├───────┼─────────────────────────┼─────────────────────────┼─────────────────────────┼─────────────────────────┼──────────────────────────┤\n",
            "│ 2023  │  $103,260,800 (33.30%)  │  $86,434,900 (27.87%)   │  $62,919,400 (20.29%)   │  $57,482,900 (18.54%)   │  $310,098,000 (100.00%)  │\n",
            "├───────┼─────────────────────────┼─────────────────────────┼─────────────────────────┼─────────────────────────┼──────────────────────────┤\n",
            "│ Total │ $1,150,880,400 (26.13%) │ $1,116,343,500 (25.35%) │ $1,098,019,600 (24.93%) │ $1,038,375,700 (23.58%) │ $4,403,619,200 (100.00%) │\n",
            "╘═══════╧═════════════════════════╧═════════════════════════╧═════════════════════════╧═════════════════════════╧══════════════════════════╛\n",
            "====================================================================================================\n",
            "\n",
            "PDF generado: comparativo_ventas_4_tiendas.pdf ✅\n"
          ]
        }
      ]
    },
    {
      "cell_type": "markdown",
      "source": [],
      "metadata": {
        "id": "vYp186n15z16"
      }
    },
    {
      "cell_type": "markdown",
      "source": [
        "# 2. Ventas por categoría"
      ],
      "metadata": {
        "id": "2V_vcAPzWZmR"
      }
    },
    {
      "cell_type": "code",
      "source": [
        "dftienda1=pd.DataFrame(tienda1)\n",
        "ventas_cat_tienda1=(dftienda1.groupby('Categoría del Producto', as_index=False )['Precio'].sum().sort_values(by ='Precio', ascending=False))\n",
        "ventas_cat_tienda1['Precio']=ventas_cat_tienda1['Precio'].apply(lambda x:f\"${x:,.0f}\")\n",
        "print(\"\\nVentas por categoría Tienda1\")\n",
        "print(ventas_cat_tienda1.to_string(index=False))"
      ],
      "metadata": {
        "id": "yZR6cOjXYSk1",
        "colab": {
          "base_uri": "https://localhost:8080/"
        },
        "outputId": "a5591906-f79e-49a0-df73-ed93ee5a6198"
      },
      "execution_count": null,
      "outputs": [
        {
          "output_type": "stream",
          "name": "stdout",
          "text": [
            "\n",
            "Ventas por categoría Tienda1\n",
            " Categoría del Producto       Precio\n",
            "           Electrónicos $429,493,500\n",
            "      Electrodomésticos $363,685,200\n",
            "                Muebles $187,633,700\n",
            " Instrumentos musicales  $91,299,000\n",
            "   Deportes y diversión  $39,290,000\n",
            "               Juguetes  $17,995,700\n",
            "Artículos para el hogar  $12,698,400\n",
            "                 Libros   $8,784,900\n"
          ]
        }
      ]
    },
    {
      "cell_type": "code",
      "source": [
        "dftienda2=pd.DataFrame(tienda2)\n",
        "ventas_cat_tienda2=(dftienda2.groupby('Categoría del Producto', as_index=False )['Precio'].sum().sort_values(by ='Precio', ascending=False))\n",
        "ventas_cat_tienda2['Precio']=ventas_cat_tienda2['Precio'].apply(lambda x:f\"${x:,.0f}\")\n",
        "print(\"\\nVentas por categoría Tienda2\")\n",
        "print(ventas_cat_tienda2.to_string(index=False))"
      ],
      "metadata": {
        "id": "NSedLSDGnIsQ",
        "colab": {
          "base_uri": "https://localhost:8080/"
        },
        "outputId": "7c369253-e360-425e-eade-46f97ac3c693"
      },
      "execution_count": null,
      "outputs": [
        {
          "output_type": "stream",
          "name": "stdout",
          "text": [
            "\n",
            "Ventas por categoría Tienda2\n",
            " Categoría del Producto       Precio\n",
            "           Electrónicos $410,831,100\n",
            "      Electrodomésticos $348,567,800\n",
            "                Muebles $176,426,300\n",
            " Instrumentos musicales $104,990,300\n",
            "   Deportes y diversión  $34,744,500\n",
            "               Juguetes  $15,945,400\n",
            "Artículos para el hogar  $14,746,900\n",
            "                 Libros  $10,091,200\n"
          ]
        }
      ]
    },
    {
      "cell_type": "code",
      "source": [
        "dftienda3=pd.DataFrame(tienda3)\n",
        "ventas_cat_tienda3=(dftienda3.groupby('Categoría del Producto', as_index=False )['Precio'].sum().sort_values(by ='Precio', ascending=False))\n",
        "ventas_cat_tienda3['Precio']=ventas_cat_tienda3['Precio'].apply(lambda x:f\"${x:,.0f}\")\n",
        "print(\"\\nVentas por categoría Tienda3\")\n",
        "print(ventas_cat_tienda3.to_string(index=False))"
      ],
      "metadata": {
        "id": "V_QkDRizndt9",
        "colab": {
          "base_uri": "https://localhost:8080/"
        },
        "outputId": "b06341f6-c8db-4b73-fdf1-1d4971a1d8f4"
      },
      "execution_count": null,
      "outputs": [
        {
          "output_type": "stream",
          "name": "stdout",
          "text": [
            "\n",
            "Ventas por categoría Tienda3\n",
            " Categoría del Producto       Precio\n",
            "           Electrónicos $410,775,800\n",
            "      Electrodomésticos $329,237,900\n",
            "                Muebles $201,072,100\n",
            " Instrumentos musicales  $77,380,900\n",
            "   Deportes y diversión  $35,593,100\n",
            "               Juguetes  $19,401,100\n",
            "Artículos para el hogar  $15,060,000\n",
            "                 Libros   $9,498,700\n"
          ]
        }
      ]
    },
    {
      "cell_type": "code",
      "source": [
        "dftienda4=pd.DataFrame(tienda4)\n",
        "ventas_cat_tienda4=(dftienda4.groupby('Categoría del Producto', as_index=False )['Precio'].sum().sort_values(by ='Precio', ascending=False))\n",
        "ventas_cat_tienda4['Precio']=ventas_cat_tienda4['Precio'].apply(lambda x:f\"${x:,.0f}\")\n",
        "print(\"\\nVentas por categoría Tienda4\")\n",
        "print(ventas_cat_tienda4.to_string(index=False))"
      ],
      "metadata": {
        "id": "4QG1GSdJn_Ta",
        "colab": {
          "base_uri": "https://localhost:8080/"
        },
        "outputId": "25916ba0-af06-46e7-e7c3-cb2af9a97fdb"
      },
      "execution_count": null,
      "outputs": [
        {
          "output_type": "stream",
          "name": "stdout",
          "text": [
            "\n",
            "Ventas por categoría Tienda4\n",
            " Categoría del Producto       Precio\n",
            "           Electrónicos $409,476,100\n",
            "      Electrodomésticos $283,260,200\n",
            "                Muebles $192,528,900\n",
            " Instrumentos musicales  $75,102,400\n",
            "   Deportes y diversión  $33,350,100\n",
            "               Juguetes  $20,262,200\n",
            "Artículos para el hogar  $15,074,500\n",
            "                 Libros   $9,321,300\n"
          ]
        }
      ]
    },
    {
      "cell_type": "markdown",
      "source": [
        "# 3. Calificación promedio de la tienda\n"
      ],
      "metadata": {
        "id": "Rq6tU_xSY3jk"
      }
    },
    {
      "cell_type": "code",
      "source": [
        "\n",
        "resultado=(tienda1.groupby('Calificación').size().pipe(lambda s: s.to_frame('Cantidad').assign(Proporcion=lambda x: (x['Cantidad'] / len(tienda1)).map(\"{:.2%}\".format))).reset_index().sort_values(by='Cantidad', ascending=False))\n",
        "print(resultado)"
      ],
      "metadata": {
        "id": "I0KkjPoTY88F",
        "colab": {
          "base_uri": "https://localhost:8080/"
        },
        "outputId": "9bc56d8a-a7fe-49d8-848e-ebc4a720c42a"
      },
      "execution_count": null,
      "outputs": [
        {
          "output_type": "stream",
          "name": "stdout",
          "text": [
            "   Calificación  Cantidad Proporcion\n",
            "4             5      1292     54.77%\n",
            "3             4       444     18.82%\n",
            "0             1       319     13.52%\n",
            "2             3       218      9.24%\n",
            "1             2        86      3.65%\n"
          ]
        }
      ]
    },
    {
      "cell_type": "code",
      "source": [
        "resultado=(tienda2.groupby('Calificación').size().pipe(lambda s: s.to_frame('Cantidad').assign(Proporcion=lambda x: (x['Cantidad'] / len(tienda2)).map(\"{:.2%}\".format))).reset_index().sort_values(by='Cantidad', ascending=False))\n",
        "print(resultado)"
      ],
      "metadata": {
        "colab": {
          "base_uri": "https://localhost:8080/"
        },
        "id": "ZtY9Z-KDwwy0",
        "outputId": "28f0db4e-ab82-424e-f1d6-032e5fcc9fd2"
      },
      "execution_count": null,
      "outputs": [
        {
          "output_type": "stream",
          "name": "stdout",
          "text": [
            "   Calificación  Cantidad Proporcion\n",
            "4             5      1302     55.19%\n",
            "3             4       482     20.43%\n",
            "0             1       273     11.57%\n",
            "2             3       209      8.86%\n",
            "1             2        93      3.94%\n"
          ]
        }
      ]
    },
    {
      "cell_type": "code",
      "source": [
        "resultado=(tienda3.groupby('Calificación').size().pipe(lambda s: s.to_frame('Cantidad').assign(Proporcion=lambda x: (x['Cantidad'] / len(tienda3)).map(\"{:.2%}\".format))).reset_index().sort_values(by='Cantidad', ascending=False))\n",
        "print(resultado)"
      ],
      "metadata": {
        "colab": {
          "base_uri": "https://localhost:8080/"
        },
        "id": "X9ZFegsbw1FV",
        "outputId": "3f49a514-b9bf-4d12-c7ae-ffd37c51b316"
      },
      "execution_count": null,
      "outputs": [
        {
          "output_type": "stream",
          "name": "stdout",
          "text": [
            "   Calificación  Cantidad Proporcion\n",
            "4             5      1356     57.48%\n",
            "3             4       434     18.40%\n",
            "0             1       297     12.59%\n",
            "2             3       193      8.18%\n",
            "1             2        79      3.35%\n"
          ]
        }
      ]
    },
    {
      "cell_type": "code",
      "source": [
        "resultado=(tienda4.groupby('Calificación').size().pipe(lambda s: s.to_frame('Cantidad').assign(Proporcion=lambda x: (x['Cantidad'] / len(tienda4)).map(\"{:.2%}\".format))).reset_index().sort_values(by='Cantidad', ascending=False))\n",
        "print(resultado)"
      ],
      "metadata": {
        "colab": {
          "base_uri": "https://localhost:8080/"
        },
        "id": "W2aRYhnXw3ia",
        "outputId": "4628bf1a-cb79-4d8f-d64e-08b5124b07c0"
      },
      "execution_count": null,
      "outputs": [
        {
          "output_type": "stream",
          "name": "stdout",
          "text": [
            "   Calificación  Cantidad Proporcion\n",
            "4             5      1300     55.13%\n",
            "3             4       453     19.21%\n",
            "0             1       310     13.15%\n",
            "2             3       210      8.91%\n",
            "1             2        85      3.60%\n"
          ]
        }
      ]
    },
    {
      "cell_type": "markdown",
      "source": [
        "# 4. Productos más y menos vendidos"
      ],
      "metadata": {
        "id": "DmNp1KPBZCm-"
      }
    },
    {
      "cell_type": "code",
      "source": [
        "df_agrupado = tienda1.groupby('Producto', as_index=False)['Precio'].sum()\n",
        "df_ordenado = df_agrupado.sort_values(by='Precio', ascending=True)\n",
        "n = min(5, len(df_ordenado))\n",
        "menos_vendidos = df_ordenado.head(n).copy()\n",
        "menos_vendidos[\"ranking\"] = range(1, len(menos_vendidos) + 1)\n",
        "mas_vendidos = df_ordenado.tail(n).sort_values(by='Precio', ascending=False).copy()\n",
        "mas_vendidos[\"ranking\"] = range(1, len(mas_vendidos) + 1)\n",
        "def mostrar_tabla(tienda1, titulo):\n",
        "    print(f\"\\n{titulo.center(50, '=')}\")\n",
        "    print(tienda1.to_string(index=False,\n",
        "                       formatters={\n",
        "                           'Precio': lambda x: f\"{x:,.0f}\".replace(\",\", \".\"),\n",
        "                           'ranking': lambda x: f\"#{x}\"\n",
        "                       }))\n",
        "mostrar_tabla(mas_vendidos, \"PRODUCTOS MÁS VENDIDOS TIENDA 1\")\n",
        "mostrar_tabla(menos_vendidos, \"PRODUCTOS MENOS VENDIDOS TIENDA 1\")"
      ],
      "metadata": {
        "id": "qoyjqijQZHfF",
        "colab": {
          "base_uri": "https://localhost:8080/"
        },
        "outputId": "8089dcbd-09d8-4e2d-9436-e3da00916f40"
      },
      "execution_count": null,
      "outputs": [
        {
          "output_type": "stream",
          "name": "stdout",
          "text": [
            "\n",
            "=========PRODUCTOS MÁS VENDIDOS TIENDA 1==========\n",
            "        Producto      Precio ranking\n",
            "   TV LED UHD 4K 142.150.200      #1\n",
            "    Refrigerador 112.143.300      #2\n",
            "       Iphone 15  97.902.200      #3\n",
            "        Smart TV  67.452.100      #4\n",
            "Lavadora de ropa  65.783.600      #5\n",
            "\n",
            "========PRODUCTOS MENOS VENDIDOS TIENDA 1=========\n",
            "          Producto    Precio ranking\n",
            "Cuerda para saltar   652.800      #1\n",
            "    Dinosaurio Rex   688.900      #2\n",
            "   Cubo mágico 8x8   696.900      #3\n",
            "      Set de vasos 1.359.100      #4\n",
            " Ajedrez de madera 1.430.600      #5\n"
          ]
        }
      ]
    },
    {
      "cell_type": "code",
      "source": [
        "df_agrupado = tienda2.groupby('Producto', as_index=False)['Precio'].sum()\n",
        "df_ordenado = df_agrupado.sort_values(by='Precio', ascending=True)\n",
        "n = min(5, len(df_ordenado))\n",
        "menos_vendidos = df_ordenado.head(n).copy()\n",
        "menos_vendidos[\"ranking\"] = range(1, len(menos_vendidos) + 1)\n",
        "mas_vendidos = df_ordenado.tail(n).sort_values(by='Precio', ascending=False).copy()\n",
        "mas_vendidos[\"ranking\"] = range(1, len(mas_vendidos) + 1)\n",
        "def mostrar_tabla(tienda2, titulo):\n",
        "    print(f\"\\n{titulo.center(50, '=')}\")\n",
        "    print(tienda2.to_string(index=False,\n",
        "                       formatters={\n",
        "                           'Precio': lambda x: f\"{x:,.0f}\".replace(\",\", \".\"),\n",
        "                           'ranking': lambda x: f\"#{x}\"\n",
        "                       }))\n",
        "mostrar_tabla(mas_vendidos, \"PRODUCTOS MÁS VENDIDOS TIENDA 2\")\n",
        "mostrar_tabla(menos_vendidos, \"PRODUCTOS MENOS VENDIDOS TIENDA 2\")"
      ],
      "metadata": {
        "id": "0Sw3sd4IZIGW",
        "colab": {
          "base_uri": "https://localhost:8080/"
        },
        "outputId": "45349961-84d4-4ccd-e0e1-6e50f03baa6d"
      },
      "execution_count": null,
      "outputs": [
        {
          "output_type": "stream",
          "name": "stdout",
          "text": [
            "\n",
            "=========PRODUCTOS MÁS VENDIDOS TIENDA 2==========\n",
            "        Producto      Precio ranking\n",
            "       Iphone 15 113.225.800      #1\n",
            "   TV LED UHD 4K 103.375.000      #2\n",
            "    Refrigerador  97.632.500      #3\n",
            "Lavadora de ropa  66.762.300      #4\n",
            "        Smart TV  61.142.000      #5\n",
            "\n",
            "========PRODUCTOS MENOS VENDIDOS TIENDA 2=========\n",
            "          Producto    Precio ranking\n",
            "   Cubo mágico 8x8   643.600      #1\n",
            "    Dinosaurio Rex   770.300      #2\n",
            "Cuerda para saltar   856.900      #3\n",
            " Ajedrez de madera 1.287.700      #4\n",
            "      Set de vasos 1.542.600      #5\n"
          ]
        }
      ]
    },
    {
      "cell_type": "code",
      "source": [
        "df_agrupado = tienda3.groupby('Producto', as_index=False)['Precio'].sum()\n",
        "df_ordenado = df_agrupado.sort_values(by='Precio', ascending=True)\n",
        "n = min(5, len(df_ordenado))\n",
        "menos_vendidos = df_ordenado.head(n).copy()\n",
        "menos_vendidos[\"ranking\"] = range(1, len(menos_vendidos) + 1)\n",
        "mas_vendidos = df_ordenado.tail(n).sort_values(by='Precio', ascending=False).copy()\n",
        "mas_vendidos[\"ranking\"] = range(1, len(mas_vendidos) + 1)\n",
        "def mostrar_tabla(tienda3, titulo):\n",
        "    print(f\"\\n{titulo.center(50, '=')}\")\n",
        "    print(tienda3.to_string(index=False,\n",
        "                       formatters={\n",
        "                           'Precio': lambda x: f\"{x:,.0f}\".replace(\",\", \".\"),\n",
        "                           'ranking': lambda x: f\"#{x}\"\n",
        "                       }))\n",
        "mostrar_tabla(mas_vendidos, \"PRODUCTOS MÁS VENDIDOS TIENDA 3\")\n",
        "mostrar_tabla(menos_vendidos, \"PRODUCTOS MENOS VENDIDOS TIENDA 3\")"
      ],
      "metadata": {
        "id": "2kD562qxDx3t",
        "colab": {
          "base_uri": "https://localhost:8080/"
        },
        "outputId": "ab13cbbd-8f1b-4f19-f505-0616425ce363"
      },
      "execution_count": null,
      "outputs": [
        {
          "output_type": "stream",
          "name": "stdout",
          "text": [
            "\n",
            "=========PRODUCTOS MÁS VENDIDOS TIENDA 3==========\n",
            "     Producto     Precio ranking\n",
            " Refrigerador 99.889.700      #1\n",
            "TV LED UHD 4K 96.669.100      #2\n",
            "    Iphone 15 93.225.700      #3\n",
            "     Smart TV 78.837.300      #4\n",
            " Lavavajillas 64.364.800      #5\n",
            "\n",
            "========PRODUCTOS MENOS VENDIDOS TIENDA 3=========\n",
            "               Producto    Precio ranking\n",
            "        Cubo mágico 8x8   640.400      #1\n",
            "         Dinosaurio Rex   795.600      #2\n",
            "     Cuerda para saltar   853.800      #3\n",
            "           Set de vasos 1.210.700      #4\n",
            "Bloques de construcción 1.237.200      #5\n"
          ]
        }
      ]
    },
    {
      "cell_type": "code",
      "source": [
        "df_agrupado = tienda4.groupby('Producto', as_index=False)['Precio'].sum()\n",
        "df_ordenado = df_agrupado.sort_values(by='Precio', ascending=True)\n",
        "n = min(5, len(df_ordenado))\n",
        "menos_vendidos = df_ordenado.head(n).copy()\n",
        "menos_vendidos[\"ranking\"] = range(1, len(menos_vendidos) + 1)\n",
        "mas_vendidos = df_ordenado.tail(n).sort_values(by='Precio', ascending=False).copy()\n",
        "mas_vendidos[\"ranking\"] = range(1, len(mas_vendidos) + 1)\n",
        "def mostrar_tabla(tienda4, titulo):\n",
        "    print(f\"\\n{titulo.center(50, '=')}\")\n",
        "    print(tienda4.to_string(index=False,\n",
        "                       formatters={\n",
        "                           'Precio': lambda x: f\"{x:,.0f}\".replace(\",\", \".\"),\n",
        "                           'ranking': lambda x: f\"#{x}\"\n",
        "                       }))\n",
        "mostrar_tabla(mas_vendidos, \"PRODUCTOS MÁS VENDIDOS TIENDA 4\")\n",
        "mostrar_tabla(menos_vendidos, \"PRODUCTOS MENOS VENDIDOS TIENDA 4\")"
      ],
      "metadata": {
        "id": "fgyFKQkcMZ_e",
        "colab": {
          "base_uri": "https://localhost:8080/"
        },
        "outputId": "c9ba3603-1132-4a16-8813-ac4e0a8a8a53"
      },
      "execution_count": null,
      "outputs": [
        {
          "output_type": "stream",
          "name": "stdout",
          "text": [
            "\n",
            "=========PRODUCTOS MÁS VENDIDOS TIENDA 4==========\n",
            "     Producto     Precio ranking\n",
            "    Iphone 15 96.697.500      #1\n",
            "TV LED UHD 4K 90.295.300      #2\n",
            "     Smart TV 82.790.400      #3\n",
            " Refrigerador 75.271.900      #4\n",
            "  Tablet ABXY 56.723.100      #5\n",
            "\n",
            "========PRODUCTOS MENOS VENDIDOS TIENDA 4=========\n",
            "          Producto    Precio ranking\n",
            "Cuerda para saltar   704.800      #1\n",
            "   Cubo mágico 8x8   748.400      #2\n",
            "    Dinosaurio Rex   858.100      #3\n",
            " Ajedrez de madera 1.075.500      #4\n",
            "      Set de vasos 1.471.800      #5\n"
          ]
        }
      ]
    },
    {
      "cell_type": "markdown",
      "source": [
        "# 5. Envío promedio por tienda"
      ],
      "metadata": {
        "id": "Fl0cGi3bZKqU"
      }
    },
    {
      "cell_type": "code",
      "source": [
        "df = pd.DataFrame(tienda1)\n",
        "df['Fecha de Compra'] = pd.to_datetime(df['Fecha de Compra'], dayfirst=True)\n",
        "grouped = df.groupby(df['Fecha de Compra'].dt.year)['Costo de envío']\n",
        "total_por_anio = grouped.sum()\n",
        "promedio_por_anio = grouped.mean()\n",
        "total_general = total_por_anio.sum()\n",
        "porcentaje = (total_por_anio / total_general) * 100\n",
        "resumen = pd.DataFrame({\n",
        "    'Año': total_por_anio.index,\n",
        "    'Total envíos': total_por_anio.values,\n",
        "    'Promedio envíos': promedio_por_anio.values,\n",
        "    'Porcentaje': porcentaje.values\n",
        "})\n",
        "resumen['Total envíos'] = resumen['Total envíos'].apply(lambda x: f\"${x:,.0f}\")\n",
        "resumen['Promedio envíos'] = resumen['Promedio envíos'].apply(lambda x: f\"${x:,.2f}\")\n",
        "resumen['Porcentaje'] = resumen['Porcentaje'].apply(lambda x: f\"{x:.2f}%\")\n",
        "print('======== Costo promedio de Envío Tienda 1 ========')\n",
        "print(resumen)"
      ],
      "metadata": {
        "id": "61O8otZx_95K",
        "colab": {
          "base_uri": "https://localhost:8080/"
        },
        "outputId": "b642db71-5bda-4506-ab2b-29295a39237e"
      },
      "execution_count": null,
      "outputs": [
        {
          "output_type": "stream",
          "name": "stdout",
          "text": [
            "======== Costo promedio de Envío Tienda 1 ========\n",
            "    Año Total envíos Promedio envíos Porcentaje\n",
            "0  2020  $19,746,200      $27,617.06     32.17%\n",
            "1  2021  $19,219,700      $26,007.71     31.31%\n",
            "2  2022  $16,862,300      $23,649.79     27.47%\n",
            "3  2023   $5,549,700      $28,904.69      9.04%\n"
          ]
        }
      ]
    },
    {
      "cell_type": "code",
      "source": [
        "df = pd.DataFrame(tienda2)\n",
        "df['Fecha de Compra'] = pd.to_datetime(df['Fecha de Compra'], dayfirst=True)\n",
        "grouped = df.groupby(df['Fecha de Compra'].dt.year)['Costo de envío']\n",
        "total_por_anio = grouped.sum()\n",
        "promedio_por_anio = grouped.mean()\n",
        "total_general = total_por_anio.sum()\n",
        "porcentaje = (total_por_anio / total_general) * 100\n",
        "resumen = pd.DataFrame({\n",
        "    'Año': total_por_anio.index,\n",
        "    'Total envíos': total_por_anio.values,\n",
        "    'Promedio envíos': promedio_por_anio.values,\n",
        "    'Porcentaje': porcentaje.values\n",
        "})\n",
        "resumen['Total envíos'] = resumen['Total envíos'].apply(lambda x: f\"${x:,.0f}\")\n",
        "resumen['Promedio envíos'] = resumen['Promedio envíos'].apply(lambda x: f\"${x:,.2f}\")\n",
        "resumen['Porcentaje'] = resumen['Porcentaje'].apply(lambda x: f\"{x:.2f}%\")\n",
        "print('======== Costo promedio de Envío Tienda 2 ========')\n",
        "print(resumen)"
      ],
      "metadata": {
        "id": "Ub5iEkLgEaTy",
        "colab": {
          "base_uri": "https://localhost:8080/"
        },
        "outputId": "3864b677-27ac-4349-d0ae-66aa9da13004"
      },
      "execution_count": null,
      "outputs": [
        {
          "output_type": "stream",
          "name": "stdout",
          "text": [
            "======== Costo promedio de Envío Tienda 2 ========\n",
            "    Año Total envíos Promedio envíos Porcentaje\n",
            "0  2020  $17,167,500      $24,525.00     28.86%\n",
            "1  2021  $18,618,500      $24,530.30     31.30%\n",
            "2  2022  $19,094,700      $26,969.92     32.10%\n",
            "3  2023   $4,604,400      $23,981.25      7.74%\n"
          ]
        }
      ]
    },
    {
      "cell_type": "code",
      "source": [
        "df = pd.DataFrame(tienda3)\n",
        "df['Fecha de Compra'] = pd.to_datetime(df['Fecha de Compra'], dayfirst=True)\n",
        "grouped = df.groupby(df['Fecha de Compra'].dt.year)['Costo de envío']\n",
        "total_por_anio = grouped.sum()\n",
        "promedio_por_anio = grouped.mean()\n",
        "total_general = total_por_anio.sum()\n",
        "porcentaje = (total_por_anio / total_general) * 100\n",
        "resumen = pd.DataFrame({\n",
        "    'Año': total_por_anio.index,\n",
        "    'Total envíos': total_por_anio.values,\n",
        "    'Promedio envíos': promedio_por_anio.values,\n",
        "    'Porcentaje': porcentaje.values\n",
        "})\n",
        "resumen['Total envíos'] = resumen['Total envíos'].apply(lambda x: f\"${x:,.0f}\")\n",
        "resumen['Promedio envíos'] = resumen['Promedio envíos'].apply(lambda x: f\"${x:,.2f}\")\n",
        "resumen['Porcentaje'] = resumen['Porcentaje'].apply(lambda x: f\"{x:.2f}%\")\n",
        "print('======== Costo promedio de Envío Tienda 3 ========')\n",
        "print(resumen)"
      ],
      "metadata": {
        "id": "8d3M7SxTEmtq",
        "colab": {
          "base_uri": "https://localhost:8080/"
        },
        "outputId": "0d1789c0-3f69-48ae-9f1a-f440436ec3f7"
      },
      "execution_count": null,
      "outputs": [
        {
          "output_type": "stream",
          "name": "stdout",
          "text": [
            "======== Costo promedio de Envío Tienda 3 ========\n",
            "    Año Total envíos Promedio envíos Porcentaje\n",
            "0  2020  $17,067,900      $24,347.93     29.17%\n",
            "1  2021  $19,384,800      $26,195.68     33.13%\n",
            "2  2022  $18,728,300      $25,308.51     32.01%\n",
            "3  2023   $3,335,600      $18,739.33      5.70%\n"
          ]
        }
      ]
    },
    {
      "cell_type": "code",
      "source": [
        "df = pd.DataFrame(tienda4)\n",
        "df['Fecha de Compra'] = pd.to_datetime(df['Fecha de Compra'], dayfirst=True)\n",
        "grouped = df.groupby(df['Fecha de Compra'].dt.year)['Costo de envío']\n",
        "total_por_anio = grouped.sum()\n",
        "promedio_por_anio = grouped.mean()\n",
        "total_general = total_por_anio.sum()\n",
        "porcentaje = (total_por_anio / total_general) * 100\n",
        "resumen = pd.DataFrame({\n",
        "    'Año': total_por_anio.index,\n",
        "    'Total envíos': total_por_anio.values,\n",
        "    'Promedio envíos': promedio_por_anio.values,\n",
        "    'Porcentaje': porcentaje.values\n",
        "})\n",
        "resumen['Total envíos'] = resumen['Total envíos'].apply(lambda x: f\"${x:,.0f}\")\n",
        "resumen['Promedio envíos'] = resumen['Promedio envíos'].apply(lambda x: f\"${x:,.2f}\")\n",
        "resumen['Porcentaje'] = resumen['Porcentaje'].apply(lambda x: f\"{x:.2f}%\")\n",
        "print('======== Costo promedio de Envío Tienda 4 ========')\n",
        "print(resumen)"
      ],
      "metadata": {
        "colab": {
          "base_uri": "https://localhost:8080/"
        },
        "id": "4IWONID9F0pF",
        "outputId": "31193aca-e7f2-44ae-dbb5-1ec785cebb34"
      },
      "execution_count": null,
      "outputs": [
        {
          "output_type": "stream",
          "name": "stdout",
          "text": [
            "======== Costo promedio de Envío Tienda 4 ========\n",
            "    Año Total envíos Promedio envíos Porcentaje\n",
            "0  2020  $17,528,600      $23,528.32     31.69%\n",
            "1  2021  $18,598,200      $24,997.58     33.62%\n",
            "2  2022  $16,156,400      $22,691.57     29.21%\n",
            "3  2023   $3,034,200      $19,326.11      5.49%\n"
          ]
        }
      ]
    },
    {
      "cell_type": "code",
      "metadata": {
        "id": "3281aa94"
      },
      "source": [],
      "execution_count": null,
      "outputs": []
    },
    {
      "cell_type": "markdown",
      "source": [
        "# 6. Informe final"
      ],
      "metadata": {
        "id": "t_xuWX-L650D"
      }
    },
    {
      "cell_type": "markdown",
      "source": [
        "Estimados señores, de acuerdo a los analisis de datos efectuados e informes generados, además del cuadro comparativo,  no se ven diferencias significativas de las ventas entre las tiendas.\n",
        "Si la decisión de cerrar una tienda persiste la que muestra una baja pero no considerable es la tienda número 4.\n",
        "Esperando que está información sea de ayuda en la toma de una decisión, me despido.\n",
        "\n",
        "Saludos cordiales\n",
        "\n",
        "Ignacio Gorigoitia G.\n",
        "\n",
        "Analista de Datos"
      ],
      "metadata": {
        "id": "MKG1ZRl97AeV"
      }
    }
  ]
}